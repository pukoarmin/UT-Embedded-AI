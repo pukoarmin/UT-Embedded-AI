{
  "nbformat": 4,
  "nbformat_minor": 0,
  "metadata": {
    "colab": {
      "provenance": []
    },
    "kernelspec": {
      "name": "python3",
      "display_name": "Python 3"
    },
    "language_info": {
      "name": "python"
    }
  },
  "cells": [
    {
      "cell_type": "markdown",
      "source": [
        "  The purpose of this notebook is to **prototype a Face Detection Algorithm** for the UT Embedded AI course.\n",
        "\n",
        ">This prototype will serve as a starting point for the later on developed model that will run on a ZedBoard. The **performance measurements** will serve as a **baseline** for future models.\n",
        "\n"
      ],
      "metadata": {
        "id": "nCKFl--W7A6V"
      }
    },
    {
      "cell_type": "markdown",
      "source": [
        "--------------------------------------------------------------------------------"
      ],
      "metadata": {
        "id": "CUaKSgUF8Hpn"
      }
    },
    {
      "cell_type": "markdown",
      "source": [
        "# The problem with FD Algorithms\n",
        "For face detection, the algorithm starts at the top left of a picture and moves down across small blocks of data, looking at each block and trying to determine if it is a face or not. This would mean around 6000 or more tests per block. This would be a heavy computational task that can also lead to a heavy impact on temporal resolution.\n",
        "\n",
        "## The Approach\n",
        "In order to get around that, the concept of cascades is used. Just like the classic \"series of waterfalls\", the problem breaks down in multiple stages.\n",
        "\n",
        "For each block, the algorithm does a rough and quick test. If that passes, it moves on to a more detailed test. Thus, the algorithm will go through multiple such cascades and only detect a face if all of them pass.\n",
        "\n",
        "The advantage is that instead of doing 6000 or more tests for every block, it does does way less per stage and cand determine extremly fast and with low computational load if there is a face or not in the input picture.\n",
        "\n",
        "## The Cascades, in Practice\n",
        "In practice, the cascades themselves are multiple XML files that define some shapes in order to detect them in the input pictures. These XML files are very powerfull, since they can not only define shapes for eyes, nose, mouth, but also hands, fingers etc. Thus, they offer great flexibility and optimization options. \n",
        "> For example if a hand covers a face, one can detect face features and hand features and termine that indeed, the hand covers parts of a face, but a face is still in the frame.\n",
        "\n",
        "\n",
        "\n",
        "--------------------------------------------------------------------------------"
      ],
      "metadata": {
        "id": "tcrAj1UM9PUe"
      }
    },
    {
      "cell_type": "markdown",
      "source": [
        "# Code"
      ],
      "metadata": {
        "id": "noeg3KniIhxC"
      }
    },
    {
      "cell_type": "markdown",
      "source": [
        "Import the required python modules"
      ],
      "metadata": {
        "id": "3A_sRXsqHvMD"
      }
    },
    {
      "cell_type": "code",
      "execution_count": 1,
      "metadata": {
        "id": "SqiI-iDX6l8i"
      },
      "outputs": [],
      "source": [
        "import sys\n",
        "import cv2"
      ]
    },
    {
      "cell_type": "code",
      "source": [
        "def face_detect(imgpath, cascadepath, nogui = True):\n",
        "\n",
        "    image = cv2.imread(imgpath)\n",
        "    gray = cv2.cvtColor(image, cv2.COLOR_BGR2GRAY)\n",
        "\n",
        "    face_cascade = cv2.CascadeClassifier(cascadepath)\n",
        "\n",
        "    faces = face_cascade.detectMultiScale(\n",
        "        gray,\n",
        "        scaleFactor = 1.2,\n",
        "        minNeighbors = 5,\n",
        "        minSize = (30,30)\n",
        "\n",
        "        )\n",
        "\n",
        "    print(\"The number of faces found = \", len(faces))\n",
        "\n",
        "    for (x,y,w,h) in faces:\n",
        "        cv2.rectangle(image, (x,y), (x+h, y+h), (0, 255, 0), 2)\n",
        "\n",
        "    if nogui:\n",
        "        cv2.imwrite('test_face.png', image)\n",
        "        return len(faces)\n",
        "    else:\n",
        "        cv2.imshow(\"Faces found\", image)\n",
        "        cv2.waitKey(0)"
      ],
      "metadata": {
        "id": "-323xbEzItYw"
      },
      "execution_count": 7,
      "outputs": []
    },
    {
      "cell_type": "code",
      "source": [
        "if __name__ == \"__main__\":\n",
        "    face_detect(\"db/test/abba.jpg\", \"cascades/haarcascade_frontalface_default.xml\")"
      ],
      "metadata": {
        "id": "5f6X8hISIz7q",
        "colab": {
          "base_uri": "https://localhost:8080/"
        },
        "outputId": "ad8a9102-ab04-48fa-dd6e-0441ba0b1c3a"
      },
      "execution_count": 8,
      "outputs": [
        {
          "output_type": "stream",
          "name": "stdout",
          "text": [
            "The number of faces found =  4\n"
          ]
        }
      ]
    }
  ]
}